{
 "cells": [
  {
   "cell_type": "code",
   "execution_count": 22,
   "id": "1c858bd9",
   "metadata": {},
   "outputs": [
    {
     "name": "stdout",
     "output_type": "stream",
     "text": [
      "ID        Name           Grade\n",
      "123       Smith             98\n",
      "124       Kollbaum          77\n",
      "125       Houseman          57\n",
      "126       Hampton           88\n",
      "127       Thomas            65\n",
      "128       Nootbar           99\n",
      "129       Goldshmidt        89\n",
      "130       Molina            74\n"
     ]
    },
    {
     "data": {
      "text/html": [
       "<div>\n",
       "<style scoped>\n",
       "    .dataframe tbody tr th:only-of-type {\n",
       "        vertical-align: middle;\n",
       "    }\n",
       "\n",
       "    .dataframe tbody tr th {\n",
       "        vertical-align: top;\n",
       "    }\n",
       "\n",
       "    .dataframe thead th {\n",
       "        text-align: right;\n",
       "    }\n",
       "</style>\n",
       "<table border=\"1\" class=\"dataframe\">\n",
       "  <thead>\n",
       "    <tr style=\"text-align: right;\">\n",
       "      <th></th>\n",
       "      <th>ID</th>\n",
       "      <th>Grade</th>\n",
       "    </tr>\n",
       "  </thead>\n",
       "  <tbody>\n",
       "    <tr>\n",
       "      <th>count</th>\n",
       "      <td>7.00</td>\n",
       "      <td>7.00</td>\n",
       "    </tr>\n",
       "    <tr>\n",
       "      <th>mean</th>\n",
       "      <td>127.00</td>\n",
       "      <td>78.43</td>\n",
       "    </tr>\n",
       "    <tr>\n",
       "      <th>std</th>\n",
       "      <td>2.16</td>\n",
       "      <td>14.65</td>\n",
       "    </tr>\n",
       "    <tr>\n",
       "      <th>min</th>\n",
       "      <td>124.00</td>\n",
       "      <td>57.00</td>\n",
       "    </tr>\n",
       "    <tr>\n",
       "      <th>25%</th>\n",
       "      <td>125.50</td>\n",
       "      <td>69.50</td>\n",
       "    </tr>\n",
       "    <tr>\n",
       "      <th>50%</th>\n",
       "      <td>127.00</td>\n",
       "      <td>77.00</td>\n",
       "    </tr>\n",
       "    <tr>\n",
       "      <th>75%</th>\n",
       "      <td>128.50</td>\n",
       "      <td>88.50</td>\n",
       "    </tr>\n",
       "    <tr>\n",
       "      <th>max</th>\n",
       "      <td>130.00</td>\n",
       "      <td>99.00</td>\n",
       "    </tr>\n",
       "  </tbody>\n",
       "</table>\n",
       "</div>"
      ],
      "text/plain": [
       "           ID  Grade\n",
       "count    7.00   7.00\n",
       "mean   127.00  78.43\n",
       "std      2.16  14.65\n",
       "min    124.00  57.00\n",
       "25%    125.50  69.50\n",
       "50%    127.00  77.00\n",
       "75%    128.50  88.50\n",
       "max    130.00  99.00"
      ]
     },
     "execution_count": 22,
     "metadata": {},
     "output_type": "execute_result"
    }
   ],
   "source": [
    "\n",
    "\n",
    "import csv\n",
    "\n",
    "#Creating a new csv file\n",
    "with open('grades.csv', mode='w', newline='') as grades:\n",
    "    writer = csv.writer(grades)\n",
    "    writer.writerow([123, 'Smith', 98])\n",
    "    writer.writerow([124, 'Kollbaum', 77])\n",
    "    writer.writerow([125, 'Houseman', 57])\n",
    "    writer.writerow([126, 'Hampton', 88])\n",
    "    writer.writerow([127, 'Thomas', 65])\n",
    "    writer.writerow([128, 'Nootbar', 99])\n",
    "    writer.writerow([129, 'Goldshmidt', 89])\n",
    "    writer.writerow([130, 'Molina', 74])\n",
    "    \n",
    "with open('grades.csv', 'r', newline='') as grades:\n",
    "    print(f'{\"ID\":<10}{\"Name\":<10}{\"Grade\":>10}')\n",
    "    reader = csv.reader(grades)\n",
    "    for record in reader:\n",
    "        ID, Name, Grade = record\n",
    "        print(f'{ID:<10}{Name:<10}{Grade:>10}')\n",
    "        \n",
    "#Getting descriptive statistics about our file\n",
    "import pandas as pd\n",
    "dataframe = pd.read_csv('grades.csv', names=['ID', 'Name', 'Grade'])\n",
    "\n",
    "dataframe\n",
    "\n",
    "dataframe.to_csv('grades_from_dataframe.csv', index=False)\n",
    "\n",
    "grades = pd.read_csv('grades.csv')\n",
    "\n",
    "grades.columns = ['ID', 'Name', 'Grade']\n",
    "\n",
    "pd.set_option('display.precision', 2)\n",
    "\n",
    "grades.describe()\n",
    "\n",
    "#Making a histogram of the grades\n",
    "\n",
    "\n",
    "\n",
    "\n",
    "    \n",
    "    "
   ]
  },
  {
   "cell_type": "code",
   "execution_count": 26,
   "id": "1b6bc0ee",
   "metadata": {},
   "outputs": [
    {
     "name": "stdout",
     "output_type": "stream",
     "text": [
      "Using matplotlib backend: TkAgg\n"
     ]
    }
   ],
   "source": [
    "#making a histogram of the grades\n",
    "%matplotlib\n",
    "\n",
    "histogram = grades.hist()"
   ]
  },
  {
   "cell_type": "code",
   "execution_count": 25,
   "id": "9549c748",
   "metadata": {},
   "outputs": [
    {
     "name": "stdout",
     "output_type": "stream",
     "text": [
      "Chris Kollbaum\n"
     ]
    }
   ],
   "source": [
    "print('Chris Kollbaum')"
   ]
  },
  {
   "cell_type": "code",
   "execution_count": null,
   "id": "f9e6de35",
   "metadata": {},
   "outputs": [],
   "source": []
  }
 ],
 "metadata": {
  "kernelspec": {
   "display_name": "Python 3 (ipykernel)",
   "language": "python",
   "name": "python3"
  },
  "language_info": {
   "codemirror_mode": {
    "name": "ipython",
    "version": 3
   },
   "file_extension": ".py",
   "mimetype": "text/x-python",
   "name": "python",
   "nbconvert_exporter": "python",
   "pygments_lexer": "ipython3",
   "version": "3.9.12"
  }
 },
 "nbformat": 4,
 "nbformat_minor": 5
}
